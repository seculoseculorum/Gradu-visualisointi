{
 "cells": [
  {
   "cell_type": "code",
   "execution_count": 19,
   "metadata": {},
   "outputs": [],
   "source": [
    "import pandas as pd\n",
    "import os\n",
    "import regex as r"
   ]
  },
  {
   "cell_type": "code",
   "execution_count": 20,
   "metadata": {},
   "outputs": [
    {
     "name": "stdout",
     "output_type": "stream",
     "text": [
      "              Company                                Ticker    Index  \\\n",
      "0         AbbVie Inc.               ABBVIE INC. (XNYS:ABBV)  S&P 500   \n",
      "1           Alphabet             ALPHABET INC. (XNAS:GOOGL)  S&P 500   \n",
      "2         Amazon.com           AMAZON.COM, INC. (XNAS:AMZN)  S&P 500   \n",
      "3          Apple Inc.                APPLE INC. (XNAS:AAPL)  S&P 500   \n",
      "4  Berkshire Hathaway  BERKSHIRE HATHAWAY INC. (XNYS:BRK.B)  S&P 500   \n",
      "\n",
      "        Date    Open   Close     Date.1  Midpoint Base_Open Last_Close  \\\n",
      "0  1.10.2024  197.65  196.96  1.10.2024  197.3050      None       None   \n",
      "1  1.10.2024  167.69  166.99  1.10.2024  167.3375      None       None   \n",
      "2  1.10.2024  184.90  185.13  1.10.2024  185.0150      None       None   \n",
      "3  1.10.2024  229.52  226.21  1.10.2024  227.8650      None       None   \n",
      "4  1.10.2024  459.11  457.41  1.10.2024  458.2600      None       None   \n",
      "\n",
      "  Last_Open  \n",
      "0      None  \n",
      "1      None  \n",
      "2      None  \n",
      "3      None  \n",
      "4      None  \n"
     ]
    }
   ],
   "source": [
    "real_output = pd.read_csv(\"C:\\\\Users\\\\jussi\\\\Seculo Seculorum Oy\\\\Jussi Personal - Documents\\\\Jussin gradu\\\\Data in\\\\True answers raw.csv\")\n",
    "real_output['Open'] = pd.to_numeric(real_output['Open'].str.replace(r'[$€]', '', regex=True), errors='coerce')\n",
    "real_output['Close'] = pd.to_numeric(real_output['Close'].str.replace(r'[$€]', '', regex=True), errors='coerce')\n",
    "real_output[['Base_Open', 'Last_Close', 'Last_Open']] = None\n",
    "print(real_output.head())"
   ]
  },
  {
   "cell_type": "code",
   "execution_count": 21,
   "metadata": {},
   "outputs": [
    {
     "name": "stdout",
     "output_type": "stream",
     "text": [
      "              Company                                Ticker    Index  \\\n",
      "0         AbbVie Inc.               ABBVIE INC. (XNYS:ABBV)  S&P 500   \n",
      "1           Alphabet             ALPHABET INC. (XNAS:GOOGL)  S&P 500   \n",
      "2         Amazon.com           AMAZON.COM, INC. (XNAS:AMZN)  S&P 500   \n",
      "3          Apple Inc.                APPLE INC. (XNAS:AAPL)  S&P 500   \n",
      "4  Berkshire Hathaway  BERKSHIRE HATHAWAY INC. (XNYS:BRK.B)  S&P 500   \n",
      "\n",
      "        Date    Open   Close     Date.1  Midpoint Base_Open  Last_Close  \\\n",
      "0  1.10.2024  197.65  196.96  1.10.2024  197.3050    193.88  100.469362   \n",
      "1  1.10.2024  167.69  166.99  1.10.2024  167.3375    161.47  101.535889   \n",
      "2  1.10.2024  184.90  185.13  1.10.2024  185.0150    177.04  106.173746   \n",
      "3  1.10.2024  229.52  226.21  1.10.2024  227.8650    223.92  101.728296   \n",
      "4  1.10.2024  459.11  457.41  1.10.2024  458.2600    441.55  103.605481   \n",
      "\n",
      "    Last_Open  Last_Midpoint  \n",
      "0   99.339798      99.904580  \n",
      "1  100.829876     101.182882  \n",
      "2  107.704474     106.939110  \n",
      "3   102.02751     101.877903  \n",
      "4  103.281622     103.443551  \n"
     ]
    }
   ],
   "source": [
    "import os\n",
    "import pandas as pd\n",
    "\n",
    "out = \"C:\\\\Users\\\\jussi\\\\Seculo Seculorum Oy\\\\Jussi Personal - Documents\\\\Jussin gradu\\\\Visualisointi\\\\Data\\\\SVG\\\\\"\n",
    "inputs = \"C:\\\\Users\\\\jussi\\\\Seculo Seculorum Oy\\\\Jussi Personal - Documents\\\\Jussin gradu\\\\Visualisointi\\\\Data\\\\Inputs\\\\\"\n",
    "files = os.listdir(inputs)\n",
    "row = 0 \n",
    "\n",
    "for file in files: \n",
    "    df = pd.read_csv(f\"{inputs}{file}\")\n",
    "    \n",
    "    df = df.dropna()\n",
    "    df['Date'] = pd.to_datetime(df['Date'])  # Ensure correct datetime conversion\n",
    "    df = df.tail(30)\n",
    "    \n",
    "    # Scale data by setting the first Open value as the base (100)\n",
    "    base_open = pd.to_numeric(df['Open'].iloc[0])\n",
    "    df[['Close', 'Open', 'High', 'Low']] = df[['Close', 'Open', 'High', 'Low']].apply(pd.to_numeric).apply(lambda x: x / base_open * 100)\n",
    "\n",
    "    real_output.loc[row, 'Base_Open'] = base_open\n",
    "    real_output.loc[row, 'Last_Midpoint'] = (df.iloc[-1]['Open'] + df.iloc[-1]['Close']) / 2\n",
    "\n",
    "    # Ensure real_output contains numeric data before applying calculations\n",
    "    real_output.loc[row, ['Open', 'Close']] = real_output.loc[row, ['Open', 'Close']].apply(pd.to_numeric, errors='coerce')\n",
    "    \n",
    "    # Assign the last row values of Open and Close\n",
    "    real_output.loc[row, ['Last_Open', 'Last_Close']] = df.iloc[-1][['Open', 'Close']].values\n",
    "    \n",
    "    # Set 'Date' as the index\n",
    "    df.set_index('Date', inplace=True)\n",
    "    row += 1\n",
    "print(real_output.head())\n"
   ]
  },
  {
   "cell_type": "code",
   "execution_count": 22,
   "metadata": {},
   "outputs": [
    {
     "name": "stdout",
     "output_type": "stream",
     "text": [
      "Run the full notebook\n"
     ]
    }
   ],
   "source": [
    "try:\n",
    "    real_output['Open_Inx'] = real_output['Open']/real_output['Base_Open']*100\n",
    "    real_output['Close_Inx'] = real_output['Close']/real_output['Base_Open']*100\n",
    "    real_output['Midpoint_Inx'] = real_output.apply(lambda row: (row['Open_Inx'] + row['Close_Inx']) / 2, axis=1)\n",
    "    real_output['Midpoint_Delta'] = real_output['Midpoint_Inx']- real_output['Last_Midpoint']\n",
    "    real_output = real_output[['Company', 'Base_open','Last_Open', 'Last_Close', 'Last_Midpoint', 'Open_Inx', 'Close_Inx', 'Midpoint_Inx', 'Midpoint_Delta']]\n",
    "    print(real_output.head())\n",
    "\n",
    "except:\n",
    "    print(\"Run the full notebook\")\n"
   ]
  },
  {
   "cell_type": "code",
   "execution_count": 23,
   "metadata": {},
   "outputs": [
    {
     "name": "stdout",
     "output_type": "stream",
     "text": [
      "File saved at: C:\\Users\\jussi\\Seculo Seculorum Oy\\Jussi Personal - Documents\\Jussin gradu\\Visualisointi\\Data\\Analysis\\Company_Results.csv\n"
     ]
    }
   ],
   "source": [
    "import os\n",
    "\n",
    "# Define the directory and file path\n",
    "output_dir = \"C:\\\\Users\\\\jussi\\\\Seculo Seculorum Oy\\\\Jussi Personal - Documents\\\\Jussin gradu\\\\Visualisointi\\\\Data\\\\Analysis\"\n",
    "file_path = os.path.join(output_dir, \"Company_Results.csv\")\n",
    "\n",
    "# Create the directory if it does not exist\n",
    "os.makedirs(output_dir, exist_ok=True)\n",
    "\n",
    "# Save the DataFrame to the specified CSV file\n",
    "real_output.to_csv(file_path, index=False)\n",
    "\n",
    "print(f\"File saved at: {file_path}\")\n"
   ]
  }
 ],
 "metadata": {
  "kernelspec": {
   "display_name": "base",
   "language": "python",
   "name": "python3"
  },
  "language_info": {
   "codemirror_mode": {
    "name": "ipython",
    "version": 3
   },
   "file_extension": ".py",
   "mimetype": "text/x-python",
   "name": "python",
   "nbconvert_exporter": "python",
   "pygments_lexer": "ipython3",
   "version": "3.11.7"
  }
 },
 "nbformat": 4,
 "nbformat_minor": 2
}
