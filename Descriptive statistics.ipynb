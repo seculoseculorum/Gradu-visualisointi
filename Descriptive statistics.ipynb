{
 "cells": [
  {
   "cell_type": "code",
   "execution_count": 9,
   "metadata": {},
   "outputs": [],
   "source": [
    "import os\n",
    "import pandas as pd\n"
   ]
  },
  {
   "cell_type": "code",
   "execution_count": 10,
   "metadata": {},
   "outputs": [
    {
     "name": "stdout",
     "output_type": "stream",
     "text": [
      "             Open      Close    Midpoint   Base_Open  Last_Close   Last_Open  \\\n",
      "count   50.000000   50.00000   50.000000   50.000000   50.000000   50.000000   \n",
      "mean   143.263200  142.50220  142.882425  136.605900  104.924587  104.837505   \n",
      "std    172.343971  171.18505  171.762625  163.962998    6.276937    6.583423   \n",
      "min      3.640000    3.63000    3.633500    3.260000   86.646510   84.303351   \n",
      "25%     20.760000   20.93750   20.848750   20.088750  101.114527  100.587216   \n",
      "50%     66.800000   66.37500   66.587500   62.600000  103.509927  103.425718   \n",
      "75%    194.462500  194.00250  194.232500  189.445000  108.202185  107.573805   \n",
      "max    713.640000  706.13000  709.885000  669.430000  123.353067  121.892020   \n",
      "\n",
      "       Last_Midpoint    Open_Inx   Close_Inx  Midpoint_Inx  Midpoint_Delta  \n",
      "count      50.000000   50.000000   50.000000     50.000000       50.000000  \n",
      "mean      104.881046  105.068584  104.545033    104.806808       -0.074238  \n",
      "std         6.406266    6.384896    6.511902      6.417273        1.688686  \n",
      "min        85.474931   84.908037   82.993197     83.950617       -5.033557  \n",
      "25%       100.707909  101.119552  100.518323    100.966935       -0.971088  \n",
      "50%       103.450199  104.089670  103.538066    103.874601        0.250730  \n",
      "75%       107.075638  108.442707  108.434906    108.420303        0.777771  \n",
      "max       122.622543  124.399716  122.197490    123.298603        2.707857  \n"
     ]
    }
   ],
   "source": [
    "stocks = pd.read_csv(\"C:\\\\Users\\\\jussi\\\\Seculo Seculorum Oy\\\\Jussi Personal - Documents\\\\Jussin gradu\\\\Visualisointi\\\\Data\\\\Analysis\\\\Company_Results.csv\")\n",
    "# Generate descriptive statistics for numeric columns\n",
    "descriptive_stats = stocks.describe()\n",
    "\n",
    "# Print the descriptive statistics\n",
    "print(descriptive_stats)"
   ]
  }
 ],
 "metadata": {
  "kernelspec": {
   "display_name": "base",
   "language": "python",
   "name": "python3"
  },
  "language_info": {
   "codemirror_mode": {
    "name": "ipython",
    "version": 3
   },
   "file_extension": ".py",
   "mimetype": "text/x-python",
   "name": "python",
   "nbconvert_exporter": "python",
   "pygments_lexer": "ipython3",
   "version": "3.11.7"
  }
 },
 "nbformat": 4,
 "nbformat_minor": 2
}
